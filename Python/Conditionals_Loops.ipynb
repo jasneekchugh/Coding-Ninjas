{
 "cells": [
  {
   "cell_type": "markdown",
   "metadata": {},
   "source": [
    "# Basic Coding Problems \n",
    "\n",
    "Jasneek Singh Chugh"
   ]
  },
  {
   "cell_type": "code",
   "execution_count": 3,
   "metadata": {},
   "outputs": [
    {
     "name": "stdout",
     "output_type": "stream",
     "text": [
      "268489928\n",
      "Positive\n"
     ]
    }
   ],
   "source": [
    "n=int(input())\n",
    "if n==0:\n",
    "    print(\"Zero\")\n",
    "elif n>0:\n",
    "    print(\"Positive\")\n",
    "elif n<0:\n",
    "    print(\"Negative\")"
   ]
  },
  {
   "cell_type": "code",
   "execution_count": 4,
   "metadata": {},
   "outputs": [
    {
     "name": "stdout",
     "output_type": "stream",
     "text": [
      "B\n"
     ]
    }
   ],
   "source": [
    " if (10 < 0) and (0 < -10):\n",
    "     print(\"A\")\n",
    " elif (10 > 0) or False:\n",
    "     print(\"B\")\n",
    " else:\n",
    "    print(\"C\")"
   ]
  },
  {
   "cell_type": "code",
   "execution_count": 5,
   "metadata": {},
   "outputs": [
    {
     "data": {
      "text/plain": [
       "False"
      ]
     },
     "execution_count": 5,
     "metadata": {},
     "output_type": "execute_result"
    }
   ],
   "source": [
    "False and True or False"
   ]
  },
  {
   "cell_type": "code",
   "execution_count": 7,
   "metadata": {},
   "outputs": [
    {
     "data": {
      "text/plain": [
       "False"
      ]
     },
     "execution_count": 7,
     "metadata": {},
     "output_type": "execute_result"
    }
   ],
   "source": [
    "False and True "
   ]
  },
  {
   "cell_type": "code",
   "execution_count": 10,
   "metadata": {},
   "outputs": [
    {
     "name": "stdout",
     "output_type": "stream",
     "text": [
      "B\n"
     ]
    }
   ],
   "source": [
    "if True or True:\n",
    "    if False and True or False:\n",
    "        print('A')\n",
    "    elif False and False or True and True:\n",
    "       print('B')\n",
    "    else:\n",
    "      print('C')\n",
    "else:\n",
    "     print('D')"
   ]
  },
  {
   "cell_type": "markdown",
   "metadata": {},
   "source": [
    "##### print the sum of numbers from 1 to n."
   ]
  },
  {
   "cell_type": "code",
   "execution_count": 26,
   "metadata": {},
   "outputs": [
    {
     "name": "stdout",
     "output_type": "stream",
     "text": [
      "3\n",
      "6\n"
     ]
    }
   ],
   "source": [
    "n= int(input())\n",
    "count=1\n",
    "sum=0\n",
    "while count <=n:\n",
    "    sum= count+sum\n",
    "    count=count+1\n",
    "print(sum)"
   ]
  },
  {
   "cell_type": "markdown",
   "metadata": {},
   "source": [
    "##### Print the sum of Even Numbers"
   ]
  },
  {
   "cell_type": "code",
   "execution_count": 77,
   "metadata": {},
   "outputs": [
    {
     "name": "stdout",
     "output_type": "stream",
     "text": [
      "please enter the maximum value: 4\n",
      "The sum of Even numbers 1 to entered number 6\n"
     ]
    }
   ],
   "source": [
    "max=int(input(\"please enter the maximum value: \"))\n",
    "even_Sum=0\n",
    "odd_Sum=0\n",
    "num=1\n",
    "while (num<=max):\n",
    "    if (num%2==0):\n",
    "        even_Sum=even_Sum+num\n",
    "\n",
    "    num+=1\n",
    "print(\"The sum of Even numbers 1 to entered number\", even_Sum)\n"
   ]
  },
  {
   "cell_type": "markdown",
   "metadata": {},
   "source": [
    "##### Checking the number is Prime or Not"
   ]
  },
  {
   "cell_type": "code",
   "execution_count": 85,
   "metadata": {},
   "outputs": [
    {
     "name": "stdout",
     "output_type": "stream",
     "text": [
      "0\n",
      "Number is Prime\n"
     ]
    }
   ],
   "source": [
    "n=int(input())\n",
    "d=2\n",
    "flag=False\n",
    "while d<n:\n",
    "    if (n%2==0):\n",
    "        flag=True\n",
    "    d=d+1\n",
    "if flag: \n",
    "    print(\"Number is not Prime\")\n",
    "else:\n",
    "    print(\"Number is Prime\")\n",
    "    "
   ]
  },
  {
   "cell_type": "markdown",
   "metadata": {},
   "source": [
    "######  Print the Prime Numbers"
   ]
  },
  {
   "cell_type": "code",
   "execution_count": 96,
   "metadata": {},
   "outputs": [
    {
     "name": "stdout",
     "output_type": "stream",
     "text": [
      "5\n",
      "2\n",
      "3\n",
      "5\n"
     ]
    }
   ],
   "source": [
    "n=int(input())\n",
    "k=2\n",
    "while k<=n:\n",
    "    d=2\n",
    "    flag=False\n",
    "    while d<k:\n",
    "        if (k%d==0):\n",
    "            flag=True\n",
    "        d=d+1\n",
    "    if not(flag):\n",
    "        print(k)\n",
    "    k=k+1"
   ]
  },
  {
   "cell_type": "markdown",
   "metadata": {},
   "source": [
    "#### Fahrenheit to Celsius\n",
    "\n",
    "Given three values - Start Fahrenheit Value (S), End Fahrenheit value (E) and Step Size (W), you need to convert all Fahrenheit values from Start to End at the gap of W, into their corresponding Celsius values and print the table."
   ]
  },
  {
   "cell_type": "code",
   "execution_count": 104,
   "metadata": {},
   "outputs": [
    {
     "name": "stdout",
     "output_type": "stream",
     "text": [
      "Enter start value of Fahrenheit0\n",
      "Enter end value of Fahrenheit12\n",
      "Step Size2\n",
      "0  -17\n",
      "2  -16\n",
      "4  -15\n",
      "6  -14\n",
      "8  -13\n",
      "10  -12\n",
      "12  -11\n"
     ]
    }
   ],
   "source": [
    "S=int(input(\"Enter start value of Fahrenheit\"))\n",
    "E=int(input(\"Enter end value of Fahrenheit\"))\n",
    "W=int(input(\"Step Size\"))\n",
    "while S<=E:\n",
    "    C=((S-32)*5)/9\n",
    "    print(S,\"\",int(C))\n",
    "    S=S+W"
   ]
  },
  {
   "cell_type": "code",
   "execution_count": 3,
   "metadata": {},
   "outputs": [
    {
     "name": "stdout",
     "output_type": "stream",
     "text": [
      "6\n"
     ]
    }
   ],
   "source": [
    "flag = True\n",
    "while flag:\n",
    "    n = int(input())\n",
    "    if n < 6:\n",
    "        n1 = int(input())\n",
    "        n2 = int(input())\n",
    "    \n",
    "        if n == 1:\n",
    "            print(n1+n2)\n",
    "        elif n == 2:\n",
    "             print(n1-n2)\n",
    "        elif n == 3:\n",
    "             print(n1*n2)\n",
    "        elif n == 4:\n",
    "            print(n1//n2)\n",
    "        elif n == 5:\n",
    "             print(n1%n2)\n",
    "        elif n == 6:\n",
    "            flag = False\n",
    "    elif n == 6:\n",
    "        flag = False\n",
    "    \n",
    "    else:\n",
    "        print(\"Invalid Operation\")\n",
    "    "
   ]
  },
  {
   "cell_type": "markdown",
   "metadata": {},
   "source": [
    "### Reverse of a Number\n",
    "Write a program to generate the reverse of a given number N. Print the corresponding reverse number."
   ]
  },
  {
   "cell_type": "code",
   "execution_count": 8,
   "metadata": {},
   "outputs": [
    {
     "name": "stdout",
     "output_type": "stream",
     "text": [
      "0\n",
      "0\n"
     ]
    }
   ],
   "source": [
    "def reverse(n):\n",
    "#Implement Your Code Here\n",
    "    rev=0\n",
    "    while(n>0):\n",
    "        rem=n%10\n",
    "        rev=(rev*10)+rem\n",
    "        n=n//10\n",
    "    return rev\n",
    "\n",
    "n=int(input())\n",
    "result = reverse(n)\n",
    "print(result)"
   ]
  },
  {
   "cell_type": "markdown",
   "metadata": {},
   "source": [
    "### Palindrome number\n",
    "Write a program to determine if given number is palindrome or not. Print true if it is palindrome, false otherwise."
   ]
  },
  {
   "cell_type": "code",
   "execution_count": 17,
   "metadata": {},
   "outputs": [
    {
     "name": "stdout",
     "output_type": "stream",
     "text": [
      "232\n",
      "true\n"
     ]
    }
   ],
   "source": [
    "def checkPalindrome(num):\n",
    "    n = num\n",
    "    rev = 0    \n",
    "    while(n > 0):    \n",
    "       rem = n %10    \n",
    "       rev = (rev *10) + rem    \n",
    "       n = n //10    \n",
    "    if rev == num:\n",
    "        return True\n",
    "    else:\n",
    "        return False\n",
    "\n",
    "num = int(input())\n",
    "isPalindrome = checkPalindrome(num)\n",
    "if(isPalindrome):\n",
    "    print('true')\n",
    "else:\n",
    "    print('false')"
   ]
  },
  {
   "cell_type": "markdown",
   "metadata": {},
   "source": [
    "#### Sum of even & odd\n",
    "Write a program to input an integer N and print the sum of all its even digits and sum of all its odd digits separately.\n"
   ]
  },
  {
   "cell_type": "code",
   "execution_count": 23,
   "metadata": {},
   "outputs": [
    {
     "name": "stdout",
     "output_type": "stream",
     "text": [
      "656\n",
      "12  5\n"
     ]
    }
   ],
   "source": [
    "num=int(input())\n",
    "sum_even=0\n",
    "sum_odd=0\n",
    "while (num>0):\n",
    "    lastdigit=num%10\n",
    "    \n",
    "    if lastdigit%2==0:\n",
    "        sum_even=lastdigit+sum_even\n",
    "    else:\n",
    "        sum_odd=lastdigit+sum_odd\n",
    "    \n",
    "    num=num//10\n",
    "print(sum_even,\"\",sum_odd)\n",
    "\n",
    "\n",
    "\n",
    "\n"
   ]
  },
  {
   "cell_type": "markdown",
   "metadata": {},
   "source": [
    "### Nth Fibonacci number\n",
    "Nth term of fibonacci series F(n) is calculated using following formula -\n",
    "\n",
    "F(n) = F(n-1) + F(n-2),  Where, F(1) = F(2) = 1"
   ]
  },
  {
   "cell_type": "code",
   "execution_count": 30,
   "metadata": {},
   "outputs": [
    {
     "name": "stdout",
     "output_type": "stream",
     "text": [
      "12\n",
      "144\n"
     ]
    }
   ],
   "source": [
    "def Fibonacci(n): \n",
    "    if n<0: \n",
    "        print(\"Incorrect input\") \n",
    "    # First Fibonacci number is 0 \n",
    "    elif n==0: \n",
    "        return 0\n",
    "    # Second Fibonacci number is 1 \n",
    "    elif n==1: \n",
    "        return 1\n",
    "    else: \n",
    "        return Fibonacci(n-1)+Fibonacci(n-2) \n",
    "  \n",
    "# Driver Program \n",
    "  \n",
    "print(Fibonacci(int(input())))"
   ]
  },
  {
   "cell_type": "code",
   "execution_count": null,
   "metadata": {},
   "outputs": [],
   "source": []
  }
 ],
 "metadata": {
  "kernelspec": {
   "display_name": "Python 3",
   "language": "python",
   "name": "python3"
  },
  "language_info": {
   "codemirror_mode": {
    "name": "ipython",
    "version": 3
   },
   "file_extension": ".py",
   "mimetype": "text/x-python",
   "name": "python",
   "nbconvert_exporter": "python",
   "pygments_lexer": "ipython3",
   "version": "3.7.1"
  }
 },
 "nbformat": 4,
 "nbformat_minor": 4
}
